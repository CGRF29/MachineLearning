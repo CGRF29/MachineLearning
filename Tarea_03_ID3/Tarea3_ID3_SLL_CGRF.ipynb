{
  "cells": [
    {
      "cell_type": "markdown",
      "metadata": {
        "id": "f-Ewj9T_8YFW"
      },
      "source": [
        "#Árbol de decisión"
      ]
    },
    {
      "cell_type": "markdown",
      "source": [
        "Facultad de Ingeniería \n",
        "\n",
        "Maestría en Inteligencia Artificial \n",
        "\n",
        "Machine Learning \n",
        "\n",
        "Cecilia Gabriela Rodríguez Flores \n",
        "\n",
        "Sheila Leyva López "
      ],
      "metadata": {
        "id": "u-zAohevEPtr"
      }
    },
    {
      "cell_type": "markdown",
      "metadata": {
        "id": "6D97jzi18YCe"
      },
      "source": [
        "## Librerias"
      ]
    },
    {
      "cell_type": "code",
      "execution_count": null,
      "metadata": {
        "id": "dp999bfn8Dmj"
      },
      "outputs": [],
      "source": [
        "import pandas as pd\n",
        "import math\n",
        "import numpy as np\n",
        "import operator\n",
        "from pandas.core.algorithms import unique"
      ]
    },
    {
      "cell_type": "markdown",
      "metadata": {
        "id": "ch6ix8QO8pdT"
      },
      "source": [
        "## Funciones"
      ]
    },
    {
      "cell_type": "markdown",
      "metadata": {
        "id": "t8d95GZZmUy_"
      },
      "source": [
        "### Funciones para generar el arbol"
      ]
    },
    {
      "cell_type": "code",
      "execution_count": null,
      "metadata": {
        "id": "Z5f8WjLN84m7"
      },
      "outputs": [],
      "source": [
        "def contar_clases(atributo_decision, clases):\n",
        "    cont_clases = np.zeros((len(clases)))\n",
        "    for n, c in enumerate(clases):\n",
        "        cont_clases[n] = int(np.sum(atributo_decision == c))\n",
        "    return cont_clases"
      ]
    },
    {
      "cell_type": "code",
      "execution_count": null,
      "metadata": {
        "id": "xGOBY6Gq84kz"
      },
      "outputs": [],
      "source": [
        "def calcular_entropia(cont_clases):\n",
        "    entropia_decision = 0\n",
        "    total = int(sum(cont_clases))\n",
        "    for d in cont_clases:\n",
        "        if d == 0: entropia_decision += 0\n",
        "        else: entropia_decision -= (d/total)*np.log2(d/total)\n",
        "    return entropia_decision"
      ]
    },
    {
      "cell_type": "code",
      "execution_count": null,
      "metadata": {
        "id": "C9mBLeLo84iD"
      },
      "outputs": [],
      "source": [
        "def ganancia_atributo(x, y, cont_clases, entropia, clases):\n",
        "    Total = int(sum(cont_clases))\n",
        "    ganancia = {}\n",
        "    for a in x.columns:\n",
        "        ganancia[a] = 0\n",
        "        observaciones = x[a].unique()\n",
        "        for o in observaciones:\n",
        "            y_a_o = y.loc[x[a] == o]\n",
        "            cont_clases_y_a_o = contar_clases(y_a_o, clases)\n",
        "            entropia_a_o = calcular_entropia(cont_clases_y_a_o)\n",
        "            total = int(sum(cont_clases_y_a_o))\n",
        "            ganancia[a] += (total/Total) * entropia_a_o\n",
        "        ganancia[a] = entropia - ganancia[a]\n",
        "    return ganancia"
      ]
    },
    {
      "cell_type": "code",
      "execution_count": null,
      "metadata": {
        "id": "qkbHoKSj84fA"
      },
      "outputs": [],
      "source": [
        "def nodo_raiz(ganancia):\n",
        "    raiz = max(ganancia.items(), key=operator.itemgetter(1))[0]\n",
        "    entropia_r = ganancia[raiz]\n",
        "    return raiz, entropia_r"
      ]
    },
    {
      "cell_type": "code",
      "execution_count": null,
      "metadata": {
        "id": "Y7kigxv_84cR"
      },
      "outputs": [],
      "source": [
        "def nodos_intermedios(x, y, atributo, obs):\n",
        "    subx = []\n",
        "    suby = []\n",
        "    for o in obs:\n",
        "        pos_coinciden = x[atributo] == o\n",
        "        subx.append(x.loc[pos_coinciden])\n",
        "        suby.append(y.loc[pos_coinciden])\n",
        "    return subx, suby"
      ]
    },
    {
      "cell_type": "code",
      "execution_count": null,
      "metadata": {
        "id": "j5hqRfeQ84Zc"
      },
      "outputs": [],
      "source": [
        "def rama_final(y_fr, obs):\n",
        "    hoja = 0\n",
        "    clase_fr = 0\n",
        "    n = len(y_fr)\n",
        "    for o in obs:\n",
        "        coincidencias = int(np.sum(y_fr == o))\n",
        "        if coincidencias == n:\n",
        "            hoja = 1\n",
        "            clase_fr = o\n",
        "    return hoja, clase_fr"
      ]
    },
    {
      "cell_type": "code",
      "execution_count": null,
      "metadata": {
        "id": "2pE5h1BO84Wr"
      },
      "outputs": [],
      "source": [
        "def arbol_id3(x, y, clases, arbol):\n",
        "    conteo_clases = contar_clases(y, clases)\n",
        "    entropia_decision = calcular_entropia(conteo_clases)\n",
        "    ganancia = ganancia_atributo(x, y, conteo_clases, entropia_decision, clases)\n",
        "    nodo_raiz_, entropia_raiz = nodo_raiz(ganancia)\n",
        "    arbol[nodo_raiz_] = {}\n",
        "    ramas = x[nodo_raiz_].unique()\n",
        "    sub_x, sub_y = nodos_intermedios(x, y, nodo_raiz_, ramas)\n",
        "    print(sub_y)\n",
        "    print(clases)\n",
        "    print('')\n",
        "    for r, sx, sy in zip(ramas, sub_x, sub_y):\n",
        "        arbol[nodo_raiz_][r] = {}\n",
        "        hoja, clase_fr = rama_final(sy, clases)\n",
        "        if hoja == 1:\n",
        "            arbol[nodo_raiz_][r] = clase_fr\n",
        "        else:\n",
        "            arbol_id3(sx, sy, clases, arbol[nodo_raiz_][r])\n",
        "    return arbol"
      ]
    },
    {
      "cell_type": "markdown",
      "metadata": {
        "id": "LYw88lwpmn8d"
      },
      "source": [
        "### Función para separa la base de datos en entrenamiento y prueba"
      ]
    },
    {
      "cell_type": "code",
      "execution_count": null,
      "metadata": {
        "id": "ymXJ3jojS_R8"
      },
      "outputs": [],
      "source": [
        "def division_80_20(datos, etiquetas):\n",
        "  n = len(datos)\n",
        "  indices = np.arange(n)\n",
        "  np.random.shuffle(indices)\n",
        "  lim = int(n * 0.80) + 1\n",
        "  x_train = datos.loc[indices[0:lim]]\n",
        "  x_test = datos.loc[indices[lim:]]\n",
        "  y_train = etiquetas.loc[indices[0:lim]]\n",
        "  y_test = etiquetas.loc[indices[lim:]]\n",
        "  return x_train, x_test, y_train, y_test"
      ]
    },
    {
      "cell_type": "markdown",
      "metadata": {
        "id": "4qwixZbknej6"
      },
      "source": [
        "### Funciones evaluar algoritmo"
      ]
    },
    {
      "cell_type": "code",
      "execution_count": null,
      "metadata": {
        "id": "v2BM1NETnrSP"
      },
      "outputs": [],
      "source": [
        "def exactitud(y_calculada, y_real):\n",
        "  coincidencias = np.equal(y_calculada, y_real)\n",
        "  total_coincidencias = np.sum(coincidencias)\n",
        "  porcentaje = (total_coincidencias / len(y_calculada))\n",
        "  return porcentaje"
      ]
    },
    {
      "cell_type": "code",
      "execution_count": null,
      "metadata": {
        "id": "vtA_VeT0oAbh"
      },
      "outputs": [],
      "source": [
        "def precision(y_class, y_real):\n",
        "    TP = FP = 0\n",
        "    for c, r in zip(y_class, y_real):\n",
        "        if r == 'Setosa':\n",
        "            if ((r == c) and r == 'Setosa'): TP += 1\n",
        "            elif ((r != c) and ( r == 'Virginica' or r == 'Versicolor')): FP += 1\n",
        "        elif r == 'Virginica':\n",
        "            if ((r == c) and r == 'Virginica'): TP += 1\n",
        "            elif ((r != c) and ( r == 'Setosa' or r == 'Versicolor')): FP += 1\n",
        "        elif r == 'Versicolor':\n",
        "            if ((r == c) and r == 'Versicolor'): TP += 1\n",
        "            elif ((r != c) and ( r == 'Virginica' or r == 'Setosa')): FP += 1\n",
        "    print('TP:',TP)\n",
        "    print('FP:',FP)\n",
        "    Pr = TP / (TP + FP)\n",
        "    return Pr"
      ]
    },
    {
      "cell_type": "markdown",
      "metadata": {
        "id": "COvgpMrQ9jqU"
      },
      "source": [
        "## Base de datos"
      ]
    },
    {
      "cell_type": "code",
      "source": [
        "from google.colab import drive\n",
        "drive.mount('/content/drive')"
      ],
      "metadata": {
        "colab": {
          "base_uri": "https://localhost:8080/"
        },
        "id": "u_JmD8bnN2jz",
        "outputId": "48aacb92-5350-4291-844a-ec56a7e48af7"
      },
      "execution_count": null,
      "outputs": [
        {
          "output_type": "stream",
          "name": "stdout",
          "text": [
            "Mounted at /content/drive\n"
          ]
        }
      ]
    },
    {
      "cell_type": "markdown",
      "source": [
        "Lectura de la base de datos"
      ],
      "metadata": {
        "id": "pomPsOGRs7fM"
      }
    },
    {
      "cell_type": "code",
      "execution_count": null,
      "metadata": {
        "id": "V7mQwouf-l0u"
      },
      "outputs": [],
      "source": [
        "df = pd.read_csv('/content/drive/MyDrive/Colab Notebooks/Machine Learning/iris.csv')\n",
        "columnas = df.columns.values"
      ]
    },
    {
      "cell_type": "code",
      "execution_count": null,
      "metadata": {
        "colab": {
          "base_uri": "https://localhost:8080/",
          "height": 206
        },
        "id": "IjyhfWXRW1ky",
        "outputId": "c84d519d-b19e-4a15-97a0-802a208e5261"
      },
      "outputs": [
        {
          "output_type": "execute_result",
          "data": {
            "text/plain": [
              "   sepal.length  sepal.width  petal.length  petal.width variety\n",
              "0           5.1          3.5           1.4          0.2  Setosa\n",
              "1           4.9          3.0           1.4          0.2  Setosa\n",
              "2           4.7          3.2           1.3          0.2  Setosa\n",
              "3           4.6          3.1           1.5          0.2  Setosa\n",
              "4           5.0          3.6           1.4          0.2  Setosa"
            ],
            "text/html": [
              "\n",
              "  <div id=\"df-7811bfbc-e105-4a37-bf31-3adcc1afab0c\">\n",
              "    <div class=\"colab-df-container\">\n",
              "      <div>\n",
              "<style scoped>\n",
              "    .dataframe tbody tr th:only-of-type {\n",
              "        vertical-align: middle;\n",
              "    }\n",
              "\n",
              "    .dataframe tbody tr th {\n",
              "        vertical-align: top;\n",
              "    }\n",
              "\n",
              "    .dataframe thead th {\n",
              "        text-align: right;\n",
              "    }\n",
              "</style>\n",
              "<table border=\"1\" class=\"dataframe\">\n",
              "  <thead>\n",
              "    <tr style=\"text-align: right;\">\n",
              "      <th></th>\n",
              "      <th>sepal.length</th>\n",
              "      <th>sepal.width</th>\n",
              "      <th>petal.length</th>\n",
              "      <th>petal.width</th>\n",
              "      <th>variety</th>\n",
              "    </tr>\n",
              "  </thead>\n",
              "  <tbody>\n",
              "    <tr>\n",
              "      <th>0</th>\n",
              "      <td>5.1</td>\n",
              "      <td>3.5</td>\n",
              "      <td>1.4</td>\n",
              "      <td>0.2</td>\n",
              "      <td>Setosa</td>\n",
              "    </tr>\n",
              "    <tr>\n",
              "      <th>1</th>\n",
              "      <td>4.9</td>\n",
              "      <td>3.0</td>\n",
              "      <td>1.4</td>\n",
              "      <td>0.2</td>\n",
              "      <td>Setosa</td>\n",
              "    </tr>\n",
              "    <tr>\n",
              "      <th>2</th>\n",
              "      <td>4.7</td>\n",
              "      <td>3.2</td>\n",
              "      <td>1.3</td>\n",
              "      <td>0.2</td>\n",
              "      <td>Setosa</td>\n",
              "    </tr>\n",
              "    <tr>\n",
              "      <th>3</th>\n",
              "      <td>4.6</td>\n",
              "      <td>3.1</td>\n",
              "      <td>1.5</td>\n",
              "      <td>0.2</td>\n",
              "      <td>Setosa</td>\n",
              "    </tr>\n",
              "    <tr>\n",
              "      <th>4</th>\n",
              "      <td>5.0</td>\n",
              "      <td>3.6</td>\n",
              "      <td>1.4</td>\n",
              "      <td>0.2</td>\n",
              "      <td>Setosa</td>\n",
              "    </tr>\n",
              "  </tbody>\n",
              "</table>\n",
              "</div>\n",
              "      <button class=\"colab-df-convert\" onclick=\"convertToInteractive('df-7811bfbc-e105-4a37-bf31-3adcc1afab0c')\"\n",
              "              title=\"Convert this dataframe to an interactive table.\"\n",
              "              style=\"display:none;\">\n",
              "        \n",
              "  <svg xmlns=\"http://www.w3.org/2000/svg\" height=\"24px\"viewBox=\"0 0 24 24\"\n",
              "       width=\"24px\">\n",
              "    <path d=\"M0 0h24v24H0V0z\" fill=\"none\"/>\n",
              "    <path d=\"M18.56 5.44l.94 2.06.94-2.06 2.06-.94-2.06-.94-.94-2.06-.94 2.06-2.06.94zm-11 1L8.5 8.5l.94-2.06 2.06-.94-2.06-.94L8.5 2.5l-.94 2.06-2.06.94zm10 10l.94 2.06.94-2.06 2.06-.94-2.06-.94-.94-2.06-.94 2.06-2.06.94z\"/><path d=\"M17.41 7.96l-1.37-1.37c-.4-.4-.92-.59-1.43-.59-.52 0-1.04.2-1.43.59L10.3 9.45l-7.72 7.72c-.78.78-.78 2.05 0 2.83L4 21.41c.39.39.9.59 1.41.59.51 0 1.02-.2 1.41-.59l7.78-7.78 2.81-2.81c.8-.78.8-2.07 0-2.86zM5.41 20L4 18.59l7.72-7.72 1.47 1.35L5.41 20z\"/>\n",
              "  </svg>\n",
              "      </button>\n",
              "      \n",
              "  <style>\n",
              "    .colab-df-container {\n",
              "      display:flex;\n",
              "      flex-wrap:wrap;\n",
              "      gap: 12px;\n",
              "    }\n",
              "\n",
              "    .colab-df-convert {\n",
              "      background-color: #E8F0FE;\n",
              "      border: none;\n",
              "      border-radius: 50%;\n",
              "      cursor: pointer;\n",
              "      display: none;\n",
              "      fill: #1967D2;\n",
              "      height: 32px;\n",
              "      padding: 0 0 0 0;\n",
              "      width: 32px;\n",
              "    }\n",
              "\n",
              "    .colab-df-convert:hover {\n",
              "      background-color: #E2EBFA;\n",
              "      box-shadow: 0px 1px 2px rgba(60, 64, 67, 0.3), 0px 1px 3px 1px rgba(60, 64, 67, 0.15);\n",
              "      fill: #174EA6;\n",
              "    }\n",
              "\n",
              "    [theme=dark] .colab-df-convert {\n",
              "      background-color: #3B4455;\n",
              "      fill: #D2E3FC;\n",
              "    }\n",
              "\n",
              "    [theme=dark] .colab-df-convert:hover {\n",
              "      background-color: #434B5C;\n",
              "      box-shadow: 0px 1px 3px 1px rgba(0, 0, 0, 0.15);\n",
              "      filter: drop-shadow(0px 1px 2px rgba(0, 0, 0, 0.3));\n",
              "      fill: #FFFFFF;\n",
              "    }\n",
              "  </style>\n",
              "\n",
              "      <script>\n",
              "        const buttonEl =\n",
              "          document.querySelector('#df-7811bfbc-e105-4a37-bf31-3adcc1afab0c button.colab-df-convert');\n",
              "        buttonEl.style.display =\n",
              "          google.colab.kernel.accessAllowed ? 'block' : 'none';\n",
              "\n",
              "        async function convertToInteractive(key) {\n",
              "          const element = document.querySelector('#df-7811bfbc-e105-4a37-bf31-3adcc1afab0c');\n",
              "          const dataTable =\n",
              "            await google.colab.kernel.invokeFunction('convertToInteractive',\n",
              "                                                     [key], {});\n",
              "          if (!dataTable) return;\n",
              "\n",
              "          const docLinkHtml = 'Like what you see? Visit the ' +\n",
              "            '<a target=\"_blank\" href=https://colab.research.google.com/notebooks/data_table.ipynb>data table notebook</a>'\n",
              "            + ' to learn more about interactive tables.';\n",
              "          element.innerHTML = '';\n",
              "          dataTable['output_type'] = 'display_data';\n",
              "          await google.colab.output.renderOutput(dataTable, element);\n",
              "          const docLink = document.createElement('div');\n",
              "          docLink.innerHTML = docLinkHtml;\n",
              "          element.appendChild(docLink);\n",
              "        }\n",
              "      </script>\n",
              "    </div>\n",
              "  </div>\n",
              "  "
            ]
          },
          "metadata": {},
          "execution_count": 15
        }
      ],
      "source": [
        "df.head()"
      ]
    },
    {
      "cell_type": "markdown",
      "source": [
        "Separación de los datos y etiquetas"
      ],
      "metadata": {
        "id": "81BVMfD2s2jB"
      }
    },
    {
      "cell_type": "code",
      "execution_count": null,
      "metadata": {
        "id": "pjp_IFy5XFCn"
      },
      "outputs": [],
      "source": [
        "x = df[columnas[:4]].copy()\n",
        "y = df['variety']\n",
        "clases = y.unique()"
      ]
    },
    {
      "cell_type": "code",
      "execution_count": null,
      "metadata": {
        "id": "E2r21LQ-Xepa"
      },
      "outputs": [],
      "source": [
        "x"
      ]
    },
    {
      "cell_type": "code",
      "execution_count": null,
      "metadata": {
        "id": "jj8HUxufXcw6"
      },
      "outputs": [],
      "source": [
        "clases"
      ]
    },
    {
      "cell_type": "markdown",
      "source": [
        "Comprobación de la falta de valores faltantes"
      ],
      "metadata": {
        "id": "taxLGz5lsn4U"
      }
    },
    {
      "cell_type": "code",
      "execution_count": null,
      "metadata": {
        "id": "_CwPAbGJct_B"
      },
      "outputs": [],
      "source": [
        "df.isnull().sum()"
      ]
    },
    {
      "cell_type": "markdown",
      "source": [
        "Observaciones de los atributos "
      ],
      "metadata": {
        "id": "FS0VcSZYs-9r"
      }
    },
    {
      "cell_type": "code",
      "execution_count": null,
      "metadata": {
        "id": "P7TTDa15c2vk"
      },
      "outputs": [],
      "source": [
        "elem_columnas = {}\n",
        "for c in columnas:\n",
        "  elem_columnas[c] = df[c].unique()\n",
        "elem_columnas"
      ]
    },
    {
      "cell_type": "markdown",
      "source": [
        "Conjunto de entrenamiento y prueba"
      ],
      "metadata": {
        "id": "YQBQAJuRtCdd"
      }
    },
    {
      "cell_type": "code",
      "execution_count": null,
      "metadata": {
        "id": "lJsVCnktUJA1"
      },
      "outputs": [],
      "source": [
        "x_train, x_test, y_train, y_test = division_80_20(x, y)"
      ]
    },
    {
      "cell_type": "markdown",
      "metadata": {
        "id": "syXTSv9X83L4"
      },
      "source": [
        "## Etapa de Entrenamiento"
      ]
    },
    {
      "cell_type": "code",
      "execution_count": null,
      "metadata": {
        "id": "6PShfXkg-HB_"
      },
      "outputs": [],
      "source": [
        "arbol_iris = {}\n",
        "arbol_iris = arbol_id3(x_train, y_train, clases, arbol_iris)"
      ]
    },
    {
      "cell_type": "code",
      "execution_count": null,
      "metadata": {
        "id": "PWdtARvWVVru"
      },
      "outputs": [],
      "source": [
        "arbol_iris"
      ]
    },
    {
      "cell_type": "markdown",
      "metadata": {
        "id": "WWUWp-_0sA31"
      },
      "source": [
        "### Función comprobación"
      ]
    },
    {
      "cell_type": "code",
      "execution_count": null,
      "metadata": {
        "id": "E28zBKLCRlob"
      },
      "outputs": [],
      "source": [
        "def comprobacion(x_clasificar):\n",
        "    petal_l = x_clasificar['petal.length']\n",
        "    petal_w = x_clasificar['petal.width']\n",
        "    sepal_l = x_clasificar['sepal.length']\n",
        "    sepal_w = x_clasificar['sepal.width']\n",
        "\n",
        "    resultado = 'No se econtró'\n",
        "   # print(type(petal_l))\n",
        "   # print(sepal_l)\n",
        "\n",
        "    if petal_l == 5.1:\n",
        "        if sepal_l == 5.8:\n",
        "            resultado = 'Virginica'\n",
        "        elif sepal_l == 6.9:\n",
        "            resultado = 'Virginica'\n",
        "        elif sepal_l == 5.9:\n",
        "            resultado = 'Virginica'\n",
        "        elif sepal_l == 6.0:\n",
        "            resultado = 'Versicolor'\n",
        "        elif sepal_l == 6.5:\n",
        "            resultado = 'Virginica'\n",
        "\n",
        "    elif petal_l == 6.1:\n",
        "        resultado = 'Virginica'\n",
        "    elif petal_l == 1.7:\n",
        "        resultado = 'Setosa'\n",
        "    elif petal_l == 5.6:\n",
        "        resultado = 'Virginica'\n",
        "    elif petal_l == 4.8:\n",
        "        if sepal_l == 6.8:\n",
        "            resultado = 'Versicolor'\n",
        "        elif sepal_l == 6.2:\n",
        "            resultado = 'Virginica'\n",
        "        elif sepal_l == 6.0:\n",
        "            resultado = 'Virginica'\n",
        "        elif sepal_l == 4.9:\n",
        "            resultado = 'Versicolor'\n",
        "\n",
        "    elif petal_l == 5.7:\n",
        "        resultado = 'Virginica'\n",
        "    elif petal_l == 3.7:\n",
        "        resultado = 'Versicolor'\n",
        "    elif petal_l == 5.8:\n",
        "        resultado = 'Virginica'\n",
        "    elif petal_l == 1.4:\n",
        "        resultado = 'Setosa'\n",
        "    elif petal_l == 6.6:\n",
        "        resultado = 'Virginica'\n",
        "\n",
        "\n",
        "    elif petal_l == 4.4:\n",
        "        resultado = 'Versicolor'\n",
        "    elif petal_l == 4.6:\n",
        "        resultado = 'Versicolor'\n",
        "    elif petal_l == 5.9:\n",
        "        resultado = 'Virginica'\n",
        "    elif petal_l == 1.5:\n",
        "        resultado = 'Setosa'\n",
        "    elif petal_l == 3.9:\n",
        "        resultado = 'Versicolor'\n",
        "    elif petal_l == 5.0:\n",
        "        resultado = 'Virginica'\n",
        "    elif petal_l == 6.0:\n",
        "        resultado = 'Virginica'\n",
        "    elif petal_l == 4.2:\n",
        "        resultado = 'Versicolor'\n",
        "    elif petal_l == 4.5:\n",
        "        resultado = 'Versicolor'\n",
        "    elif petal_l == 6.4:\n",
        "        resultado = 'Virginica'\n",
        "    elif petal_l == 1.3:\n",
        "        resultado = 'Setosa'\n",
        "    elif petal_l == 5.3:\n",
        "        resultado = 'Virginica'\n",
        "    elif petal_l == 3.0:\n",
        "        resultado = 'Versicolor'\n",
        "    elif petal_l == 6.3:\n",
        "        resultado = 'Virginica'\n",
        "    elif petal_l == 5.2:\n",
        "        resultado = 'Virginica'\n",
        "    elif petal_l == 5.5:\n",
        "        resultado = 'Virginica'\n",
        "    elif petal_l == 4.9:\n",
        "\n",
        "        if sepal_w == 2.5:\n",
        "            resultado = 'Versicolor'\n",
        "        elif sepal_w == 2.7:\n",
        "            resultado = 'Virginica'\n",
        "        elif sepal_w == 3.1:\n",
        "            resultado = 'Versicolor'   \n",
        "\n",
        "    elif petal_l == 4.7:\n",
        "        resultado = 'Versicolor'\n",
        "    elif petal_l == 4.0:\n",
        "        resultado = 'Versicolor'\n",
        "    elif petal_l == 3.6:\n",
        "        resultado = 'Versicolor'\n",
        "    elif petal_l == 1.9:\n",
        "        resultado = 'Setosa'\n",
        "    elif petal_l == 1.0:\n",
        "        resultado = 'Setosa'\n",
        "    elif petal_l == 1.6:\n",
        "        resultado = 'Setosa'\n",
        "\n",
        "    elif petal_l == 6.4:\n",
        "        resultado = 'Virginica'\n",
        "    elif petal_l == 3.5:\n",
        "        resultado = 'Versicolor'\n",
        "    elif petal_l == 3.8:\n",
        "        resultado = 'Versicolor'\n",
        "\n",
        "    elif petal_l == 6.9:\n",
        "        resultado = 'Virginica'\n",
        "    elif petal_l == 4.1:\n",
        "        resultado = 'Versicolor'\n",
        "    elif petal_l == 4.3:\n",
        "        resultado = 'Versicolor'\n",
        "    elif petal_l == 3.3:\n",
        "        resultado = 'Versicolor'\n",
        "\n",
        "    elif petal_l == 1.1:\n",
        "        resultado = 'Setosa'\n",
        "    elif petal_l == 5.4:\n",
        "        resultado = 'Virginica'\n",
        "   # print(resultado)\n",
        "    return resultado"
      ]
    },
    {
      "cell_type": "code",
      "execution_count": null,
      "metadata": {
        "id": "5THwW3uGWrua"
      },
      "outputs": [],
      "source": [
        "def clasificar_id3(x):\n",
        "  indices = x.index\n",
        "  clasificaciones = []\n",
        "  for i in indices:\n",
        "    clasifica = x.loc[i]\n",
        "    resultado_i = comprobacion(clasifica)\n",
        "    clasificaciones.append(resultado_i)\n",
        "  return clasificaciones"
      ]
    },
    {
      "cell_type": "markdown",
      "metadata": {
        "id": "Wl8y1ak3spfs"
      },
      "source": [
        "## Evaluación del árbol"
      ]
    },
    {
      "cell_type": "markdown",
      "metadata": {
        "id": "NzJOJehD4SRO"
      },
      "source": [
        "Etapa de entrenamiento"
      ]
    },
    {
      "cell_type": "code",
      "execution_count": null,
      "metadata": {
        "id": "H0MW_e8f4mcb"
      },
      "outputs": [],
      "source": [
        "y_clasificada_train = clasificar_id3(x_train)"
      ]
    },
    {
      "cell_type": "code",
      "execution_count": null,
      "metadata": {
        "id": "7sEIxiFGD_0V"
      },
      "outputs": [],
      "source": [
        "coincidencias = np.equal(y_clasificada_train, y_train)"
      ]
    },
    {
      "cell_type": "code",
      "execution_count": null,
      "metadata": {
        "id": "7ziTRNO04Y9S"
      },
      "outputs": [],
      "source": [
        "exactitud_train = exactitud(y_clasificada_train, y_train)\n",
        "precision_train = precision(y_clasificada_train, y_train)"
      ]
    },
    {
      "cell_type": "code",
      "execution_count": null,
      "metadata": {
        "id": "rTVjmCziKkqf"
      },
      "outputs": [],
      "source": [
        "print(f'Exactitud: {exactitud_train}')"
      ]
    },
    {
      "cell_type": "code",
      "execution_count": null,
      "metadata": {
        "id": "JI_wbd19K6S4"
      },
      "outputs": [],
      "source": [
        "print(f'Precisión: {precision_train}')"
      ]
    },
    {
      "cell_type": "markdown",
      "metadata": {
        "id": "JQRnTjwktA5_"
      },
      "source": [
        "Etapa de prueba"
      ]
    },
    {
      "cell_type": "code",
      "execution_count": null,
      "metadata": {
        "id": "f2qtt3HlZv_H"
      },
      "outputs": [],
      "source": [
        "y_clasificada = clasificar_id3(x_test)"
      ]
    },
    {
      "cell_type": "code",
      "execution_count": null,
      "metadata": {
        "id": "zanidqKaZ31i"
      },
      "outputs": [],
      "source": [
        "exactitud_test = exactitud(y_clasificada, y_test)\n",
        "precision_test = precision(y_clasificada, y_test)"
      ]
    },
    {
      "cell_type": "code",
      "execution_count": null,
      "metadata": {
        "id": "UAegOZFyLdGK"
      },
      "outputs": [],
      "source": [
        "print(f'Exactitud: {exactitud_test}')"
      ]
    },
    {
      "cell_type": "code",
      "execution_count": null,
      "metadata": {
        "id": "L9aOmHJiLdGL"
      },
      "outputs": [],
      "source": [
        "print(f'Precisión: {precision_test}')"
      ]
    }
  ],
  "metadata": {
    "colab": {
      "collapsed_sections": [],
      "provenance": []
    },
    "kernelspec": {
      "display_name": "Python 3 (ipykernel)",
      "language": "python",
      "name": "python3"
    },
    "language_info": {
      "codemirror_mode": {
        "name": "ipython",
        "version": 3
      },
      "file_extension": ".py",
      "mimetype": "text/x-python",
      "name": "python",
      "nbconvert_exporter": "python",
      "pygments_lexer": "ipython3",
      "version": "3.9.12"
    }
  },
  "nbformat": 4,
  "nbformat_minor": 0
}